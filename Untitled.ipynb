{
 "cells": [
  {
   "cell_type": "code",
   "execution_count": 1,
   "id": "fdf31a9b-de99-4634-9b3f-7bdc178490b0",
   "metadata": {
    "tags": []
   },
   "outputs": [
    {
     "name": "stderr",
     "output_type": "stream",
     "text": [
      "2023-02-28 20:25:24.184593: I tensorflow/core/platform/cpu_feature_guard.cc:193] This TensorFlow binary is optimized with oneAPI Deep Neural Network Library (oneDNN) to use the following CPU instructions in performance-critical operations:  AVX2 FMA\n",
      "To enable them in other operations, rebuild TensorFlow with the appropriate compiler flags.\n",
      "2023-02-28 20:25:24.293367: W tensorflow/compiler/xla/stream_executor/platform/default/dso_loader.cc:64] Could not load dynamic library 'libcudart.so.11.0'; dlerror: libcudart.so.11.0: cannot open shared object file: No such file or directory\n",
      "2023-02-28 20:25:24.293403: I tensorflow/compiler/xla/stream_executor/cuda/cudart_stub.cc:29] Ignore above cudart dlerror if you do not have a GPU set up on your machine.\n",
      "2023-02-28 20:25:24.718977: W tensorflow/compiler/xla/stream_executor/platform/default/dso_loader.cc:64] Could not load dynamic library 'libnvinfer.so.7'; dlerror: libnvinfer.so.7: cannot open shared object file: No such file or directory\n",
      "2023-02-28 20:25:24.719042: W tensorflow/compiler/xla/stream_executor/platform/default/dso_loader.cc:64] Could not load dynamic library 'libnvinfer_plugin.so.7'; dlerror: libnvinfer_plugin.so.7: cannot open shared object file: No such file or directory\n",
      "2023-02-28 20:25:24.719047: W tensorflow/compiler/tf2tensorrt/utils/py_utils.cc:38] TF-TRT Warning: Cannot dlopen some TensorRT libraries. If you would like to use Nvidia GPU with TensorRT, please make sure the missing libraries mentioned above are installed properly.\n"
     ]
    },
    {
     "name": "stdout",
     "output_type": "stream",
     "text": [
      "2.11.0\n"
     ]
    }
   ],
   "source": [
    "import numpy as np\n",
    "import tensorflow as tf\n",
    "import pandas as pd\n",
    "\n",
    "from tensorflow.python.framework.ops import disable_eager_execution\n",
    "#disable_eager_execution()\n",
    "\n",
    "print(tf.__version__)"
   ]
  },
  {
   "cell_type": "code",
   "execution_count": 2,
   "id": "38efd029-f9a9-4443-951e-aa0ed32c991d",
   "metadata": {
    "tags": []
   },
   "outputs": [],
   "source": [
    "targets = [\n",
    "    4.271786676,52.21072604,2110.5,1608,3.015,30.15,442.2,1708.5,201,40.2\n",
    "]"
   ]
  },
  {
   "cell_type": "code",
   "execution_count": 3,
   "id": "0665a934-ddd9-4dd8-98dd-f3dc1ae80d87",
   "metadata": {
    "tags": []
   },
   "outputs": [],
   "source": [
    "ingredients_dict = {\n",
    "    \"Rind, Muskel fettfrei\": [0.5, 21, 10, 160, 0.2, 3, 3, 50, 0, 1],\n",
    "    # ... TODO ...\n",
    "    \"Eierschale\": [0, 0, 33000, 0, 0, 0, 0, 0, 0, 0],\n",
    "}\n",
    "\n",
    "ingredients = pd.DataFrame(ingredients_dict, index=[\"Energie\", \"Protein\", \"Kalzium\", \"Phosphor\", \"Kupfer\", \"Zink\", \"Jod\", \"Vit. A\", \"Vit. D\", \"Vit. E\"])"
   ]
  },
  {
   "cell_type": "code",
   "execution_count": 4,
   "id": "620aa779-22bb-4266-8569-32bd61b3e033",
   "metadata": {
    "tags": []
   },
   "outputs": [
    {
     "data": {
      "text/html": [
       "<div>\n",
       "<style scoped>\n",
       "    .dataframe tbody tr th:only-of-type {\n",
       "        vertical-align: middle;\n",
       "    }\n",
       "\n",
       "    .dataframe tbody tr th {\n",
       "        vertical-align: top;\n",
       "    }\n",
       "\n",
       "    .dataframe thead th {\n",
       "        text-align: right;\n",
       "    }\n",
       "</style>\n",
       "<table border=\"1\" class=\"dataframe\">\n",
       "  <thead>\n",
       "    <tr style=\"text-align: right;\">\n",
       "      <th></th>\n",
       "      <th>Rind, Muskel fettfrei</th>\n",
       "      <th>Eierschale</th>\n",
       "    </tr>\n",
       "  </thead>\n",
       "  <tbody>\n",
       "    <tr>\n",
       "      <th>Energie</th>\n",
       "      <td>0.005</td>\n",
       "      <td>0.0</td>\n",
       "    </tr>\n",
       "    <tr>\n",
       "      <th>Protein</th>\n",
       "      <td>0.210</td>\n",
       "      <td>0.0</td>\n",
       "    </tr>\n",
       "    <tr>\n",
       "      <th>Kalzium</th>\n",
       "      <td>0.100</td>\n",
       "      <td>330.0</td>\n",
       "    </tr>\n",
       "    <tr>\n",
       "      <th>Phosphor</th>\n",
       "      <td>1.600</td>\n",
       "      <td>0.0</td>\n",
       "    </tr>\n",
       "    <tr>\n",
       "      <th>Kupfer</th>\n",
       "      <td>0.002</td>\n",
       "      <td>0.0</td>\n",
       "    </tr>\n",
       "    <tr>\n",
       "      <th>Zink</th>\n",
       "      <td>0.030</td>\n",
       "      <td>0.0</td>\n",
       "    </tr>\n",
       "    <tr>\n",
       "      <th>Jod</th>\n",
       "      <td>0.030</td>\n",
       "      <td>0.0</td>\n",
       "    </tr>\n",
       "    <tr>\n",
       "      <th>Vit. A</th>\n",
       "      <td>0.500</td>\n",
       "      <td>0.0</td>\n",
       "    </tr>\n",
       "    <tr>\n",
       "      <th>Vit. D</th>\n",
       "      <td>0.000</td>\n",
       "      <td>0.0</td>\n",
       "    </tr>\n",
       "    <tr>\n",
       "      <th>Vit. E</th>\n",
       "      <td>0.010</td>\n",
       "      <td>0.0</td>\n",
       "    </tr>\n",
       "  </tbody>\n",
       "</table>\n",
       "</div>"
      ],
      "text/plain": [
       "          Rind, Muskel fettfrei  Eierschale\n",
       "Energie                   0.005         0.0\n",
       "Protein                   0.210         0.0\n",
       "Kalzium                   0.100       330.0\n",
       "Phosphor                  1.600         0.0\n",
       "Kupfer                    0.002         0.0\n",
       "Zink                      0.030         0.0\n",
       "Jod                       0.030         0.0\n",
       "Vit. A                    0.500         0.0\n",
       "Vit. D                    0.000         0.0\n",
       "Vit. E                    0.010         0.0"
      ]
     },
     "execution_count": 4,
     "metadata": {},
     "output_type": "execute_result"
    }
   ],
   "source": [
    "ingredients = ingredients / 100.0 # numbers entered above are per 100g, normalize to per gram\n",
    "ingredients"
   ]
  },
  {
   "cell_type": "code",
   "execution_count": 5,
   "id": "9c445ca0-c21a-477e-b815-f7313a5f85f5",
   "metadata": {
    "tags": []
   },
   "outputs": [
    {
     "data": {
      "text/plain": [
       "array([[5.0e-03, 0.0e+00],\n",
       "       [2.1e-01, 0.0e+00],\n",
       "       [1.0e-01, 3.3e+02],\n",
       "       [1.6e+00, 0.0e+00],\n",
       "       [2.0e-03, 0.0e+00],\n",
       "       [3.0e-02, 0.0e+00],\n",
       "       [3.0e-02, 0.0e+00],\n",
       "       [5.0e-01, 0.0e+00],\n",
       "       [0.0e+00, 0.0e+00],\n",
       "       [1.0e-02, 0.0e+00]])"
      ]
     },
     "execution_count": 5,
     "metadata": {},
     "output_type": "execute_result"
    }
   ],
   "source": [
    "ingredients.values"
   ]
  },
  {
   "cell_type": "code",
   "execution_count": 6,
   "id": "ef13b445-20db-430d-8ec6-d73a66544bf1",
   "metadata": {
    "tags": []
   },
   "outputs": [],
   "source": [
    "counts_shape = (ingredients.values.shape[-1], 1)"
   ]
  },
  {
   "cell_type": "code",
   "execution_count": 7,
   "id": "26d3a660-fc8e-468f-90d2-4c890ca53386",
   "metadata": {
    "tags": []
   },
   "outputs": [],
   "source": [
    "class Ingredients(tf.keras.layers.Layer):\n",
    "    def __init__(self, ingredients, targets, **kwargs):\n",
    "        super().__init__(**kwargs)\n",
    "        n_values, n_ingredients = ingredients.shape\n",
    "        \n",
    "        self.targets = np.array(targets)\n",
    "        assert self.targets.shape == (n_values,)\n",
    "        \n",
    "        # Normalize ingredients so they are expressed relative to their target value\n",
    "        # This makes it easier to define a sensible loss later\n",
    "        self.ingredients = np.array(ingredients) / self.targets.reshape((-1, 1))\n",
    "    \n",
    "    def build(self, input_shape=None):\n",
    "        amounts_shape = (self.ingredients.shape[-1], 1)\n",
    "        self.amounts = self.add_weight(\n",
    "            name=\"amounts\", shape=amounts_shape, initializer=tf.zeros,\n",
    "            dtype=tf.float32\n",
    "        )\n",
    "        self.built = True\n",
    "            \n",
    "    @tf.function\n",
    "    def call(self, inputs=()):\n",
    "        totals = tf.convert_to_tensor(self.ingredients, dtype=tf.float32) @ self.amounts\n",
    "        return totals\n"
   ]
  },
  {
   "cell_type": "code",
   "execution_count": 8,
   "id": "c32015f5-8d74-4853-af44-c5176e793a5c",
   "metadata": {
    "tags": []
   },
   "outputs": [
    {
     "data": {
      "text/plain": [
       "array([[1.17047043e-03, 0.00000000e+00],\n",
       "       [4.02216203e-03, 0.00000000e+00],\n",
       "       [4.73821369e-05, 1.56361052e-01],\n",
       "       [9.95024876e-04, 0.00000000e+00],\n",
       "       [6.63349917e-04, 0.00000000e+00],\n",
       "       [9.95024876e-04, 0.00000000e+00],\n",
       "       [6.78426052e-05, 0.00000000e+00],\n",
       "       [2.92654375e-04, 0.00000000e+00],\n",
       "       [0.00000000e+00, 0.00000000e+00],\n",
       "       [2.48756219e-04, 0.00000000e+00]])"
      ]
     },
     "execution_count": 8,
     "metadata": {},
     "output_type": "execute_result"
    }
   ],
   "source": [
    "Ingredients(ingredients.values, targets).ingredients"
   ]
  },
  {
   "cell_type": "code",
   "execution_count": 9,
   "id": "2c5b9aaf-76ce-4228-9a9f-e4695b81e66e",
   "metadata": {
    "tags": []
   },
   "outputs": [
    {
     "data": {
      "text/plain": [
       "array([[1.],\n",
       "       [1.],\n",
       "       [1.],\n",
       "       [1.],\n",
       "       [1.],\n",
       "       [1.],\n",
       "       [1.],\n",
       "       [1.],\n",
       "       [1.],\n",
       "       [1.]])"
      ]
     },
     "execution_count": 9,
     "metadata": {},
     "output_type": "execute_result"
    }
   ],
   "source": [
    "np.ones((10,1))"
   ]
  },
  {
   "cell_type": "code",
   "execution_count": 10,
   "id": "6354c544-e739-40e3-a2af-eace876a9379",
   "metadata": {
    "tags": []
   },
   "outputs": [
    {
     "name": "stderr",
     "output_type": "stream",
     "text": [
      "2023-02-28 20:25:25.475553: I tensorflow/compiler/xla/stream_executor/cuda/cuda_gpu_executor.cc:967] could not open file to read NUMA node: /sys/bus/pci/devices/0000:01:00.0/numa_node\n",
      "Your kernel may have been built without NUMA support.\n",
      "2023-02-28 20:25:25.477899: W tensorflow/compiler/xla/stream_executor/platform/default/dso_loader.cc:64] Could not load dynamic library 'libcudart.so.11.0'; dlerror: libcudart.so.11.0: cannot open shared object file: No such file or directory\n",
      "2023-02-28 20:25:25.477930: W tensorflow/compiler/xla/stream_executor/platform/default/dso_loader.cc:64] Could not load dynamic library 'libcublas.so.11'; dlerror: libcublas.so.11: cannot open shared object file: No such file or directory\n",
      "2023-02-28 20:25:25.477952: W tensorflow/compiler/xla/stream_executor/platform/default/dso_loader.cc:64] Could not load dynamic library 'libcublasLt.so.11'; dlerror: libcublasLt.so.11: cannot open shared object file: No such file or directory\n",
      "2023-02-28 20:25:25.477973: W tensorflow/compiler/xla/stream_executor/platform/default/dso_loader.cc:64] Could not load dynamic library 'libcufft.so.10'; dlerror: libcufft.so.10: cannot open shared object file: No such file or directory\n",
      "2023-02-28 20:25:25.477991: W tensorflow/compiler/xla/stream_executor/platform/default/dso_loader.cc:64] Could not load dynamic library 'libcurand.so.10'; dlerror: libcurand.so.10: cannot open shared object file: No such file or directory\n",
      "2023-02-28 20:25:25.478012: W tensorflow/compiler/xla/stream_executor/platform/default/dso_loader.cc:64] Could not load dynamic library 'libcusolver.so.11'; dlerror: libcusolver.so.11: cannot open shared object file: No such file or directory\n",
      "2023-02-28 20:25:25.478030: W tensorflow/compiler/xla/stream_executor/platform/default/dso_loader.cc:64] Could not load dynamic library 'libcusparse.so.11'; dlerror: libcusparse.so.11: cannot open shared object file: No such file or directory\n",
      "2023-02-28 20:25:25.478047: W tensorflow/compiler/xla/stream_executor/platform/default/dso_loader.cc:64] Could not load dynamic library 'libcudnn.so.8'; dlerror: libcudnn.so.8: cannot open shared object file: No such file or directory\n",
      "2023-02-28 20:25:25.478052: W tensorflow/core/common_runtime/gpu/gpu_device.cc:1934] Cannot dlopen some GPU libraries. Please make sure the missing libraries mentioned above are installed properly if you would like to use GPU. Follow the guide at https://www.tensorflow.org/install/gpu for how to download and setup the required libraries for your platform.\n",
      "Skipping registering GPU devices...\n",
      "2023-02-28 20:25:25.478897: I tensorflow/core/platform/cpu_feature_guard.cc:193] This TensorFlow binary is optimized with oneAPI Deep Neural Network Library (oneDNN) to use the following CPU instructions in performance-critical operations:  AVX2 FMA\n",
      "To enable them in other operations, rebuild TensorFlow with the appropriate compiler flags.\n"
     ]
    }
   ],
   "source": [
    "dummy_in = tf.keras.layers.Input(batch_input_shape=())\n",
    "model = tf.keras.models.Model([dummy_in], Ingredients(ingredients.values, targets)(dummy_in))"
   ]
  },
  {
   "cell_type": "code",
   "execution_count": 11,
   "id": "dd2cd043-6aa1-45fe-99bf-3fe64cc79d43",
   "metadata": {
    "tags": []
   },
   "outputs": [
    {
     "name": "stdout",
     "output_type": "stream",
     "text": [
      "Model: \"model\"\n",
      "_________________________________________________________________\n",
      " Layer (type)                Output Shape              Param #   \n",
      "=================================================================\n",
      " input_1 (InputLayer)        [None]                    0         \n",
      "                                                                 \n",
      " ingredients_1 (Ingredients)  (10, 1)                  2         \n",
      "                                                                 \n",
      "=================================================================\n",
      "Total params: 2\n",
      "Trainable params: 2\n",
      "Non-trainable params: 0\n",
      "_________________________________________________________________\n"
     ]
    }
   ],
   "source": [
    "opt = tf.keras.optimizers.Adam(learning_rate=0.1)\n",
    "model.compile(opt, \"MSE\")\n",
    "model.summary()"
   ]
  },
  {
   "cell_type": "code",
   "execution_count": 12,
   "id": "bc49814e-939e-4c77-b3f5-1a88566f21c5",
   "metadata": {
    "tags": []
   },
   "outputs": [
    {
     "data": {
      "text/plain": [
       "<tf.Tensor: shape=(10, 1), dtype=float32, numpy=\n",
       "array([[0.],\n",
       "       [0.],\n",
       "       [0.],\n",
       "       [0.],\n",
       "       [0.],\n",
       "       [0.],\n",
       "       [0.],\n",
       "       [0.],\n",
       "       [0.],\n",
       "       [0.]], dtype=float32)>"
      ]
     },
     "execution_count": 12,
     "metadata": {},
     "output_type": "execute_result"
    }
   ],
   "source": [
    "model(0)"
   ]
  },
  {
   "cell_type": "code",
   "execution_count": 31,
   "id": "3160f891-5166-4731-b11a-086ae05be270",
   "metadata": {
    "tags": []
   },
   "outputs": [
    {
     "name": "stdout",
     "output_type": "stream",
     "text": [
      "0\n",
      "1\n",
      "2\n",
      "3\n",
      "4\n",
      "5\n",
      "6\n",
      "7\n",
      "8\n",
      "9\n",
      "10\n",
      "11\n",
      "12\n",
      "13\n",
      "14\n",
      "15\n",
      "16\n",
      "17\n",
      "18\n",
      "19\n",
      "20\n",
      "21\n",
      "22\n",
      "23\n",
      "24\n",
      "25\n",
      "26\n",
      "27\n",
      "28\n",
      "29\n",
      "30\n",
      "31\n",
      "32\n",
      "33\n",
      "34\n",
      "35\n",
      "36\n",
      "37\n",
      "38\n",
      "39\n",
      "40\n",
      "41\n",
      "42\n",
      "43\n",
      "44\n",
      "45\n",
      "46\n",
      "47\n",
      "48\n",
      "49\n"
     ]
    }
   ],
   "source": [
    "for round in range(50):\n",
    "    model.fit([np.array([0])], [np.ones((1,10,))], epochs=100, verbose=0)\n",
    "    print(round)"
   ]
  },
  {
   "cell_type": "code",
   "execution_count": 32,
   "id": "3a0b8ce7-7e06-4fa0-8bee-ec5136b821d1",
   "metadata": {
    "tags": []
   },
   "outputs": [
    {
     "data": {
      "text/plain": [
       "[<tf.Variable 'ingredients_1/amounts:0' shape=(2, 1) dtype=float32, numpy=\n",
       " array([[420.0439  ],\n",
       "        [  6.268168]], dtype=float32)>]"
      ]
     },
     "execution_count": 32,
     "metadata": {},
     "output_type": "execute_result"
    }
   ],
   "source": [
    "model.weights"
   ]
  },
  {
   "cell_type": "code",
   "execution_count": 33,
   "id": "b395a250-9429-49da-87b2-ad37c93f65ae",
   "metadata": {
    "tags": []
   },
   "outputs": [
    {
     "data": {
      "text/plain": [
       "array([0.49164897, 1.6894846 , 0.99999994, 0.41795418, 0.2786361 ,\n",
       "       0.41795418, 0.02849687, 0.1229277 , 0.        , 0.10448854],\n",
       "      dtype=float32)"
      ]
     },
     "execution_count": 33,
     "metadata": {},
     "output_type": "execute_result"
    }
   ],
   "source": [
    "model([0]).numpy()[:, 0]"
   ]
  },
  {
   "cell_type": "code",
   "execution_count": 34,
   "id": "42e1b6a2-be72-4d74-9aaa-2e30969a7aac",
   "metadata": {
    "tags": []
   },
   "outputs": [
    {
     "data": {
      "text/plain": [
       "array([2.10021953e+00, 8.82092174e+01, 2.11049987e+03, 6.72070316e+02,\n",
       "       8.40087835e-01, 1.26013184e+01, 1.26013179e+01, 2.10021968e+02,\n",
       "       0.00000000e+00, 4.20043948e+00])"
      ]
     },
     "execution_count": 34,
     "metadata": {},
     "output_type": "execute_result"
    }
   ],
   "source": [
    "model([0]).numpy()[:, 0] * targets"
   ]
  },
  {
   "cell_type": "code",
   "execution_count": 35,
   "id": "494a647b-5439-428c-b3d2-7a8236e10bd0",
   "metadata": {
    "tags": []
   },
   "outputs": [
    {
     "name": "stdout",
     "output_type": "stream",
     "text": [
      "['Energie', 'Protein', 'Kalzium', 'Phosphor', 'Kupfer', 'Zink', 'Jod', 'Vit. A', 'Vit. D', 'Vit. E']\n",
      "[4.271786676, 52.21072604, 2110.5, 1608, 3.015, 30.15, 442.2, 1708.5, 201, 40.2]\n"
     ]
    }
   ],
   "source": [
    "print([\"Energie\", \"Protein\", \"Kalzium\", \"Phosphor\", \"Kupfer\", \"Zink\", \"Jod\", \"Vit. A\", \"Vit. D\", \"Vit. E\"])\n",
    "print(targets)"
   ]
  },
  {
   "cell_type": "code",
   "execution_count": null,
   "id": "8e652ce8-39aa-4687-9fa6-2edbf27705f1",
   "metadata": {},
   "outputs": [],
   "source": []
  },
  {
   "cell_type": "code",
   "execution_count": null,
   "id": "53664ea8-8d23-43a5-b310-c37e1ec4203b",
   "metadata": {},
   "outputs": [],
   "source": []
  }
 ],
 "metadata": {
  "kernelspec": {
   "display_name": "Python 3 (ipykernel)",
   "language": "python",
   "name": "python3"
  },
  "language_info": {
   "codemirror_mode": {
    "name": "ipython",
    "version": 3
   },
   "file_extension": ".py",
   "mimetype": "text/x-python",
   "name": "python",
   "nbconvert_exporter": "python",
   "pygments_lexer": "ipython3",
   "version": "3.10.6"
  }
 },
 "nbformat": 4,
 "nbformat_minor": 5
}
